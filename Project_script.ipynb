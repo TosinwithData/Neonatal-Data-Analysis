{
 "cells": [
  {
   "cell_type": "code",
   "execution_count": null,
   "id": "b5e893ef-e9c8-4d94-ab1d-e0773a2f4832",
   "metadata": {},
   "outputs": [],
   "source": [
    "import pandas as pd\n",
    "from sklearn.linear_model import LinearRegression\n",
    "from scipy.stats import pearsonr\n",
    "import statsmodels.api as sm\n",
    "import chardet"
   ]
  },
  {
   "cell_type": "code",
   "execution_count": null,
   "id": "2f9984db-1e6c-458c-b2cd-232d43bce033",
   "metadata": {},
   "outputs": [],
   "source": [
    "# Load File Path\n",
    "data_path = r\"C:\\Users\\tosin\\Desktop\\Project\\Data_folder\\dataset.csv\""
   ]
  },
  {
   "cell_type": "code",
   "execution_count": null,
   "id": "4a94645f-6122-447a-b87d-2be29f0e24ee",
   "metadata": {},
   "outputs": [],
   "source": [
    "# Detect the encoding type for the file\n",
    "with open(data_path, 'rb') as f:\n",
    "    result = chardet.detect(f.read())\n",
    "print(f\"Detected encoding: {result['encoding']}\")"
   ]
  },
  {
   "cell_type": "code",
   "execution_count": null,
   "id": "157464b4-169a-4d26-9246-6009624a3163",
   "metadata": {},
   "outputs": [],
   "source": [
    "# Load dataset without specifying an encoding (uses default utf-8)\n",
    "df = pd.read_csv(data_path, encoding=None)\n",
    "\n",
    "print(\"Dataset loaded successfully!\")"
   ]
  },
  {
   "cell_type": "code",
   "execution_count": null,
   "id": "7d3377e2-4c93-4733-b487-2df0b605efe8",
   "metadata": {},
   "outputs": [],
   "source": [
    "#View column names \n",
    "print(df.columns)"
   ]
  },
  {
   "cell_type": "code",
   "execution_count": null,
   "id": "4533ddcf-43b0-41ad-be57-3f5f6c652a1d",
   "metadata": {},
   "outputs": [],
   "source": [
    "#Check datatypes for concerned columns\n",
    "print(df[['OFC', 'Parity']].dtypes)"
   ]
  },
  {
   "cell_type": "code",
   "execution_count": null,
   "id": "2bd988de-3a81-4c23-9a2d-1142af93f2cf",
   "metadata": {},
   "outputs": [],
   "source": [
    "# drop NULL values\n",
    "df = df.dropna(subset=['OFC', 'Parity'])  # Drop rows with NaNs in these columns"
   ]
  },
  {
   "cell_type": "code",
   "execution_count": null,
   "id": "d434b134-4f7a-466f-87b5-e76cf3f4ea73",
   "metadata": {},
   "outputs": [],
   "source": [
    "from scipy.stats import pearsonr\n",
    "\n",
    "# Compute correlation between 'Mother's Age' and 'OFC'\n",
    "corr_mothers_age_ofc, _ = pearsonr(df[\" Mother's Age\"], df[\"OFC\"])\n",
    "\n",
    "# Compute correlation between 'Parity' and 'OFC'\n",
    "corr_parity_ofc, _ = pearsonr(df[\"Parity\"], df[\"OFC\"])\n",
    "\n",
    "print(f\"Correlation (Mother's Age vs. OFC): {corr_mothers_age_ofc}\")\n",
    "print(f\"Correlation (Parity vs. OFC): {corr_parity_ofc}\")\n"
   ]
  },
  {
   "cell_type": "code",
   "execution_count": null,
   "id": "273b6563-c00a-4a53-a5a5-65964d2e5f90",
   "metadata": {},
   "outputs": [],
   "source": [
    "import statsmodels.api as sm\n",
    "\n",
    "# Prepare the independent variables (with a constant for intercept)\n",
    "X_ofc = df[[\"Gest. Age (weeks)\", \" Mother's Age\", \"Parity\", \"male gender \", \"Socioeconomic Status\"]]\n",
    "X_ofc = sm.add_constant(X_ofc)  # Add constant for intercept\n",
    "\n",
    "# Dependent variable\n",
    "y_ofc = df[\"OFC\"]\n",
    "\n",
    "# Fit the regression model\n",
    "model_ofc = sm.OLS(y_ofc, X_ofc).fit()\n",
    "\n",
    "# Summary of the regression model\n",
    "print(model_ofc.summary())\n"
   ]
  },
  {
   "cell_type": "code",
   "execution_count": null,
   "id": "9414416f-85a8-40c9-a7f0-05ecf754742a",
   "metadata": {},
   "outputs": [],
   "source": [
    "# Prepare the independent variables (with a constant for intercept)\n",
    "X_bw = df[[\"Gest. Age (weeks)\", \"male gender \", \" Mother's Age\", \"Parity\", \"Socioeconomic Status\"]]\n",
    "X_bw = sm.add_constant(X_bw)  # Add constant for intercept\n",
    "\n",
    "# Dependent variable\n",
    "y_bw = df[\"Birth Weight (g)\"]\n",
    "\n",
    "# Fit the regression model\n",
    "model_bw = sm.OLS(y_bw, X_bw).fit()\n",
    "\n",
    "# Summary of the regression model\n",
    "print(model_bw.summary())\n"
   ]
  },
  {
   "cell_type": "code",
   "execution_count": null,
   "id": "0422c5df-3c4e-4db3-9f72-b2de4e6ede18",
   "metadata": {},
   "outputs": [],
   "source": [
    "# Prepare the independent variables (with a constant for intercept)\n",
    "X_length = df[[\"Gest. Age (weeks)\", \"male gender \", \" Mother's Age\", \"Parity\", \"Socioeconomic Status\"]]\n",
    "X_length = sm.add_constant(X_length)  # Add constant for intercept\n",
    "\n",
    "# Dependent variable\n",
    "y_length = df[\"Length (cm)\"]\n",
    "\n",
    "# Fit the regression model\n",
    "model_length = sm.OLS(y_length, X_length).fit()\n",
    "\n",
    "# Summary of the regression model\n",
    "print(model_length.summary())\n"
   ]
  },
  {
   "cell_type": "code",
   "execution_count": null,
   "id": "535039d0-cde0-4198-a5a4-acf762217fc4",
   "metadata": {},
   "outputs": [],
   "source": [
    "# Path to save the results\n",
    "results_path = r\"C:\\Users\\Smartie\\Desktop\\Project_Oshinowo\\Results\"\n",
    "os.makedirs(results_path, exist_ok=True)\n",
    "\n",
    "# Results dictionary to store all outputs\n",
    "results = {}\n",
    "\n",
    "# Pearson Correlation\n",
    "corr_mothers_age_ofc, _ = pearsonr(df[\" Mother's Age\"], df[\"OFC\"])\n",
    "corr_parity_ofc, _ = pearsonr(df[\"Parity\"], df[\"OFC\"])\n",
    "results[\"Correlation (Mother's Age vs. OFC)\"] = corr_mothers_age_ofc\n",
    "results[\"Correlation (Parity vs. OFC)\"] = corr_parity_ofc\n",
    "\n",
    "# Multilinear Regression: OFC\n",
    "X_ofc = df[[\"Gest. Age (weeks)\", \" Mother's Age\", \"Parity\", \"male gender \", \"Socioeconomic Status\"]]\n",
    "X_ofc = sm.add_constant(X_ofc)\n",
    "y_ofc = df[\"OFC\"]\n",
    "model_ofc = sm.OLS(y_ofc, X_ofc).fit()\n",
    "results[\"Regression Summary (OFC)\"] = model_ofc.summary().as_text()\n",
    "\n",
    "# Multilinear Regression: Birth Weight (g)\n",
    "X_bw = df[[\"Gest. Age (weeks)\", \"male gender \", \" Mother's Age\", \"Parity\", \"Socioeconomic Status\"]]\n",
    "X_bw = sm.add_constant(X_bw)\n",
    "y_bw = df[\"Birth Weight (g)\"]\n",
    "model_bw = sm.OLS(y_bw, X_bw).fit()\n",
    "results[\"Regression Summary (Birth Weight (g))\"] = model_bw.summary().as_text()\n",
    "\n",
    "# Multilinear Regression: Length (cm)\n",
    "X_length = df[[\"Gest. Age (weeks)\", \"male gender \", \" Mother's Age\", \"Parity\", \"Socioeconomic Status\"]]\n",
    "X_length = sm.add_constant(X_length)\n",
    "y_length = df[\"Length (cm)\"]\n",
    "model_length = sm.OLS(y_length, X_length).fit()\n",
    "results[\"Regression Summary (Length (cm))\"] = model_length.summary().as_text()\n",
    "\n",
    "# Write the results to a CSV file\n",
    "results_df = pd.DataFrame.from_dict(results, orient='index', columns=[\"Results\"])\n",
    "results_csv_path = os.path.join(results_path, \"results.csv\")\n",
    "results_df.to_csv(results_csv_path, index=True)\n",
    "\n",
    "print(f\"Results saved successfully to {results_csv_path}\")"
   ]
  }
 ],
 "metadata": {
  "kernelspec": {
   "display_name": "Python 3 (ipykernel)",
   "language": "python",
   "name": "python3"
  },
  "language_info": {
   "codemirror_mode": {
    "name": "ipython",
    "version": 3
   },
   "file_extension": ".py",
   "mimetype": "text/x-python",
   "name": "python",
   "nbconvert_exporter": "python",
   "pygments_lexer": "ipython3",
   "version": "3.13.1"
  }
 },
 "nbformat": 4,
 "nbformat_minor": 5
}
